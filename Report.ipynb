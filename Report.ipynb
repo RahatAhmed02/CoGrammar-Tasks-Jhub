{
 "cells": [
  {
   "cell_type": "code",
   "execution_count": 18,
   "metadata": {
    "id": "h0LVvvnfJsg5"
   },
   "outputs": [],
   "source": [
    "# Import pandas\n",
    "import pandas as pd"
   ]
  },
  {
   "cell_type": "code",
   "execution_count": 19,
   "metadata": {
    "id": "rv2oLRnPK36J"
   },
   "outputs": [],
   "source": [
    "# Create a DataFrame with balance.txt\n",
    "df = pd.read_csv('balance.txt', delim_whitespace=True)"
   ]
  },
  {
   "cell_type": "markdown",
   "metadata": {
    "id": "_LXpBJXZLYoh"
   },
   "source": [
    "Write the code needed to produce a report that provides the following information:\n",
    "* Compare the average income based on ethnicity.\n",
    "* On average, do married or single people have a higher balance?\n",
    "* What is the highest income in our dataset?\n",
    "* What is the lowest income in our dataset?\n",
    "* How many cards do we have recorded in our dataset? (Hint: use `sum()`)\n",
    "* How many females do we have information for vs how many males? (Hint: use `count()` for a list of all methods for computation of descriptive stats, explore the [pandas documentation](https://pandas.pydata.org/pandas-docs/stable/reference/frame.html#computations-descriptive-stats)).\n",
    "\n",
    "\n"
   ]
  },
  {
   "cell_type": "code",
   "execution_count": 20,
   "metadata": {},
   "outputs": [
    {
     "name": "stdout",
     "output_type": "stream",
     "text": [
      "Ethnicity\n",
      "African American    47.682101\n",
      "Asian               44.187833\n",
      "Caucasian           44.521945\n",
      "Name: Income, dtype: float64\n",
      "The greatest average income is seen in the African American ethinicity, and lowest amongst the Asians.\n"
     ]
    }
   ],
   "source": [
    "# Compare the average income based on ethnicity.\n",
    "\n",
    "# Group data by 'Ethinicity' in rows and select 'Income' column, calculate mean average of numeric data in each column\n",
    "print(df.groupby('Ethnicity')['Income'].mean(numeric_only=True))\n",
    "\n",
    "print(\"The greatest average income is seen in the African American ethinicity, and lowest amongst the Asians.\")"
   ]
  },
  {
   "cell_type": "code",
   "execution_count": 21,
   "metadata": {},
   "outputs": [
    {
     "name": "stdout",
     "output_type": "stream",
     "text": [
      "Married\n",
      "No     13.493509\n",
      "Yes    13.388473\n",
      "Name: Balance, dtype: float64\n",
      "On average single people have higher balances.\n"
     ]
    }
   ],
   "source": [
    "# On average, do married or single people have a higher balance?\n",
    "\n",
    "# Group data by 'Married' status in rows and select 'Balance' column, calculate mean average of numerica data in each column\n",
    "print(df.groupby('Married')['Balance'].mean(numeric_only=True))\n",
    "\n",
    "print(\"On average single people have higher balances.\")"
   ]
  },
  {
   "cell_type": "code",
   "execution_count": 22,
   "metadata": {},
   "outputs": [
    {
     "name": "stdout",
     "output_type": "stream",
     "text": [
      "The highest income is 186.634.\n"
     ]
    }
   ],
   "source": [
    "# What is the highest income in our dataset?\n",
    "\n",
    "# Select all rows and select 'Income' column, locate maximum value in column\n",
    "highest_income = df.loc[:, 'Income'].max()\n",
    "\n",
    "print(f\"The highest income is {highest_income}.\")"
   ]
  },
  {
   "cell_type": "code",
   "execution_count": 23,
   "metadata": {},
   "outputs": [
    {
     "name": "stdout",
     "output_type": "stream",
     "text": [
      "The lowest income is 10.354.\n"
     ]
    }
   ],
   "source": [
    "# What is the lowest income in our dataset?\n",
    "\n",
    "# Select all rows and select 'Income' column, locate minimum value in column\n",
    "lowest_income = df.loc[:, 'Income'].min()\n",
    "\n",
    "print(f\"The lowest income is {lowest_income}.\")"
   ]
  },
  {
   "cell_type": "code",
   "execution_count": 24,
   "metadata": {},
   "outputs": [
    {
     "name": "stdout",
     "output_type": "stream",
     "text": [
      "The total cards recorded in the dataset is 1183.\n"
     ]
    }
   ],
   "source": [
    "# How many cards do we have recorded in our dataset?\n",
    "\n",
    "# Select all rows and select 'Cards' column, sum total data in column\n",
    "total_cards = df.loc[:, 'Cards'].sum()\n",
    "\n",
    "print(f\"The total cards recorded in the dataset is {total_cards}.\")"
   ]
  },
  {
   "cell_type": "code",
   "execution_count": 25,
   "metadata": {},
   "outputs": [
    {
     "name": "stdout",
     "output_type": "stream",
     "text": [
      "Gender\n",
      "Female    207\n",
      "Male      193\n",
      "Name: Gender, dtype: int64\n",
      "We have 207 data points for Females, and 193 for Males.\n"
     ]
    }
   ],
   "source": [
    "# How many females do we have information for vs how many males?\n",
    "\n",
    "# Group data by 'Gender' in rows and select only 'Gender' column, calculate count of data in each column \n",
    "print(df.groupby('Gender')['Gender'].count())\n",
    "\n",
    "print(\"We have 207 data points for Females, and 193 for Males.\")"
   ]
  },
  {
   "cell_type": "code",
   "execution_count": null,
   "metadata": {},
   "outputs": [],
   "source": []
  }
 ],
 "metadata": {
  "colab": {
   "provenance": []
  },
  "kernelspec": {
   "display_name": "Python 3",
   "language": "python",
   "name": "python3"
  },
  "language_info": {
   "codemirror_mode": {
    "name": "ipython",
    "version": 3
   },
   "file_extension": ".py",
   "mimetype": "text/x-python",
   "name": "python",
   "nbconvert_exporter": "python",
   "pygments_lexer": "ipython3",
   "version": "3.8.8"
  }
 },
 "nbformat": 4,
 "nbformat_minor": 1
}
