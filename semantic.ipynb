{
 "cells": [
  {
   "cell_type": "markdown",
   "id": "a6ce0b89",
   "metadata": {},
   "source": [
    "Practical Task 1\n",
    "\n",
    "1) Create a file called semantic.py and run all the code extracts above."
   ]
  },
  {
   "cell_type": "code",
   "execution_count": 60,
   "id": "57b4c42f",
   "metadata": {},
   "outputs": [
    {
     "name": "stdout",
     "output_type": "stream",
     "text": [
      "0.5929929675536907\n",
      "0.4041501317354622\n",
      "0.22358825939615987\n",
      "cat cat 1.0\n",
      "cat apple 0.20368055999279022\n",
      "cat monkey 0.5929929614067078\n",
      "cat banana 0.2235882580280304\n",
      "apple cat 0.20368055999279022\n",
      "apple apple 1.0\n",
      "apple monkey 0.2342509925365448\n",
      "apple banana 0.6646700501441956\n",
      "monkey cat 0.5929929614067078\n",
      "monkey apple 0.2342509925365448\n",
      "monkey monkey 1.0\n",
      "monkey banana 0.404150128364563\n",
      "banana cat 0.2235882580280304\n",
      "banana apple 0.6646700501441956\n",
      "banana monkey 0.404150128364563\n",
      "banana banana 1.0\n",
      "where did my dog go - 0.630065230699739\n",
      "Hello, there is my car - 0.8033180111627156\n",
      "I've lost my car in my car - 0.6787541571030323\n",
      "I'd like my boat back - 0.5624939988269558\n",
      "I will name my dog Diana - 0.6491444739190607\n"
     ]
    }
   ],
   "source": [
    "import spacy\n",
    "\n",
    "nlp = spacy.load('en_core_web_md')\n",
    "\n",
    "word1 = nlp(\"cat\")\n",
    "word2 = nlp(\"monkey\")\n",
    "word3 = nlp(\"banana\")\n",
    "\n",
    "print(word1.similarity(word2))\n",
    "print(word3.similarity(word2))\n",
    "print(word3.similarity(word1))\n",
    "\n",
    "tokens = nlp('cat apple monkey banana ')\n",
    "\n",
    "for token1 in tokens:\n",
    "    for token2 in tokens:\n",
    "        print(token1.text, token2.text, token1.similarity(token2))\n",
    "        \n",
    "sentence_to_compare = \"Why is my cat on the car\"\n",
    "\n",
    "sentences = [\"where did my dog go\",\n",
    "             \"Hello, there is my car\",\n",
    "             \"I've lost my car in my car\",\n",
    "             \"I'd like my boat back\",\n",
    "             \"I will name my dog Diana\"]\n",
    "\n",
    "model_sentence = nlp(sentence_to_compare)\n",
    "\n",
    "for sentence in sentences:\n",
    "    similarity = nlp(sentence).similarity(model_sentence)\n",
    "    print(sentence + \" - \" + str(similarity))"
   ]
  },
  {
   "cell_type": "markdown",
   "id": "416ebdbc",
   "metadata": {},
   "source": [
    "2) Write a note on what you noticed about the similarities between cat, monkey and banana and think of an example of your own."
   ]
  },
  {
   "cell_type": "markdown",
   "id": "38fa930b",
   "metadata": {},
   "source": [
    "Notes on similarities between 'cat', 'monkey' & 'banana':\n",
    "\n",
    "The similarity score between 'cat' and 'monkey' is 0.59, which is relatively high. This reflects that both terms are animals and share some contextual relationships in how they are used in language.\n",
    "\n",
    "The similarity score between 'monkey' and 'banana' is 0.40, which is lower than 'cat' and 'monkey' but still significant. This is likely because monkeys are often associated with bananas in popular culture and discourse.\n",
    "\n",
    "The similarity score between 'cat' and 'banana' is 0.22, which is quite low, indicating that these words are not closely related. One is an animal and the other is a fruit, and are not often associated with each other so do not often appear in similar contexts."
   ]
  },
  {
   "cell_type": "code",
   "execution_count": 14,
   "id": "9f51593d",
   "metadata": {},
   "outputs": [
    {
     "name": "stdout",
     "output_type": "stream",
     "text": [
      "0.39598241498723835\n",
      "0.6008919645904612\n",
      "0.2536375316514919\n"
     ]
    }
   ],
   "source": [
    "# Example of my own\n",
    "\n",
    "word4 = nlp(\"dog\")\n",
    "word5 = nlp(\"bark\")\n",
    "word6 = nlp(\"tree\")\n",
    "\n",
    "print(word4.similarity(word5))\n",
    "print(word6.similarity(word5))\n",
    "print(word6.similarity(word4))"
   ]
  },
  {
   "cell_type": "markdown",
   "id": "0c26e843",
   "metadata": {},
   "source": [
    "3) Run the example file on with the simpler language model en_core_web_sm and write a note on what you notice may be different from the model en_core_web_md"
   ]
  },
  {
   "cell_type": "markdown",
   "id": "acea060e",
   "metadata": {},
   "source": [
    "Notes on en_core_web_sm vs en_core_web_md:\n",
    "\n",
    "The smaller en_core_web_sm model lacks word vectors, which means it won't be as effective at capturing semantic similarities as the en_core_web_md model, which includes word vectors for a more nuanced understanding of text. Therefore, when you compare texts for similarity using the en_core_web_sm model, you notice that the similarity scores are different—potentially less accurate or lower—than those produced by the en_core_web_md model. This difference would be due to the en_core_web_sm model's reliance on the context of surrounding words alone, without the benefit of word vectors to enhance its understanding of the text. Word vectors are numerical representations of words that capture their meanings, relationships, and context, allowing computers to understand language similarly to humans."
   ]
  },
  {
   "cell_type": "markdown",
   "id": "125c8836",
   "metadata": {},
   "source": [
    "Practical Task 2"
   ]
  },
  {
   "cell_type": "markdown",
   "id": "17f1526d",
   "metadata": {},
   "source": [
    "Read in the movies.txt file. Each separate line is a description of a different movie."
   ]
  },
  {
   "cell_type": "code",
   "execution_count": 31,
   "id": "889086a5",
   "metadata": {},
   "outputs": [
    {
     "name": "stdout",
     "output_type": "stream",
     "text": [
      "      Movie                                        Description\n",
      "0  Movie A   When Hiccup discovers Toothless isn't the only...\n",
      "1  Movie B   After the death of Superman, several new peopl...\n",
      "2  Movie C   A darkness swirls at the center of a world-ren...\n",
      "3  Movie D   A humorous take on Sir Arthur Conan Doyle's cl...\n",
      "4  Movie E   A 16-year-old girl and her extended family are...\n",
      "5  Movie F   In the last moments of World War II, a young G...\n",
      "6  Movie G   The world at an end, a dying mother sends her ...\n",
      "7  Movie H   A musician helps a young singer and actress fi...\n",
      "8  Movie I   Corporate analyst and single mom, Jen, tackles...\n",
      "9  Movie J   Adapted from the bestselling novel by Madelein...\n"
     ]
    }
   ],
   "source": [
    "import pandas as pd\n",
    "\n",
    "df = pd.read_csv('movies.txt',sep=':', header=None, names=['Movie', 'Description'])\n",
    "\n",
    "print(df)"
   ]
  },
  {
   "cell_type": "markdown",
   "id": "8715d385",
   "metadata": {},
   "source": [
    "Your task is to create a function to return which movies a user would watch next if they have watched Planet Hulk with the descrtiption \"Will he save their world or destroy it? When the Hulk becomes too dangerous for the Earth, the Illuminati trick Hulk into a shuttle and launch him into space to a planet where the Hulk can live in peace. Unfortunately, Hulk lands on the planet Sakaar where he is sold into slavery and trained as a gladiator.\""
   ]
  },
  {
   "cell_type": "code",
   "execution_count": 43,
   "id": "14009ba0",
   "metadata": {},
   "outputs": [],
   "source": [
    "Planet_Hulk = \"Will he save their world or destroy it? When the Hulk becomes too dangerous for the Earth, the Illuminati trick Hulk into a shuttle and launch him into space to a planet where the Hulk can live in peace. Unfortunately, Hulk lands on the planet Sakaar where he is sold into slavery and trained as a gladiator.\""
   ]
  },
  {
   "cell_type": "markdown",
   "id": "6de811e2",
   "metadata": {},
   "source": [
    "The function should take in the description as a parameter and return the title of the most similar movie."
   ]
  },
  {
   "cell_type": "code",
   "execution_count": 57,
   "id": "8c09a0b2",
   "metadata": {},
   "outputs": [
    {
     "data": {
      "text/plain": [
       "('Movie C ', 0.9089252220278423)"
      ]
     },
     "execution_count": 57,
     "metadata": {},
     "output_type": "execute_result"
    }
   ],
   "source": [
    "def recommend_movie(input_description):\n",
    "    input_doc = nlp(input_description)\n",
    "    recommended_similarity = 0\n",
    "    movie_title = None\n",
    "    \n",
    "    for index, row in df.iterrows():\n",
    "        movie_description = nlp(row['Description'])\n",
    "        local_similarity = input_doc.similarity(movie_description)\n",
    "        \n",
    "        if local_similarity > recommended_similarity:\n",
    "            recommended_similarity = local_similarity\n",
    "            movie_title = row['Movie']\n",
    "    \n",
    "    return movie_title, recommended_similarity\n",
    "\n",
    "recommend_movie(Planet_Hulk)"
   ]
  },
  {
   "cell_type": "code",
   "execution_count": 1,
   "id": "e96e6b68",
   "metadata": {},
   "outputs": [
    {
     "name": "stdout",
     "output_type": "stream",
     "text": [
      "0.5929929675536907\n",
      "0.4041501317354622\n",
      "0.22358825939615987\n",
      "cat cat 1.0\n",
      "cat apple 0.20368055999279022\n",
      "cat monkey 0.5929929614067078\n",
      "cat banana 0.2235882580280304\n",
      "apple cat 0.20368055999279022\n",
      "apple apple 1.0\n",
      "apple monkey 0.2342509925365448\n",
      "apple banana 0.6646700501441956\n",
      "monkey cat 0.5929929614067078\n",
      "monkey apple 0.2342509925365448\n",
      "monkey monkey 1.0\n",
      "monkey banana 0.404150128364563\n",
      "banana cat 0.2235882580280304\n",
      "banana apple 0.6646700501441956\n",
      "banana monkey 0.404150128364563\n",
      "banana banana 1.0\n",
      "where did my dog go - 0.630065230699739\n",
      "Hello, there is my car - 0.8033180111627156\n",
      "I've lost my car in my car - 0.6787541571030323\n",
      "I'd like my boat back - 0.5624939988269558\n",
      "I will name my dog Diana - 0.6491444739190607\n",
      "0.39598241498723835\n",
      "0.6008919645904612\n",
      "0.2536375316514919\n",
      "      Movie                                        Description\n",
      "0  Movie A   When Hiccup discovers Toothless isn't the only...\n",
      "1  Movie B   After the death of Superman, several new peopl...\n",
      "2  Movie C   A darkness swirls at the center of a world-ren...\n",
      "3  Movie D   A humorous take on Sir Arthur Conan Doyle's cl...\n",
      "4  Movie E   A 16-year-old girl and her extended family are...\n",
      "5  Movie F   In the last moments of World War II, a young G...\n",
      "6  Movie G   The world at an end, a dying mother sends her ...\n",
      "7  Movie H   A musician helps a young singer and actress fi...\n",
      "8  Movie I   Corporate analyst and single mom, Jen, tackles...\n",
      "9  Movie J   Adapted from the bestselling novel by Madelein...\n"
     ]
    },
    {
     "data": {
      "text/plain": [
       "('Movie C ', 0.9089251875793417)"
      ]
     },
     "execution_count": 1,
     "metadata": {},
     "output_type": "execute_result"
    }
   ],
   "source": [
    "# Practical Task 1\n",
    "# \n",
    "# 1) Create a file called semantic.py and run all the code extracts above.\n",
    "\n",
    "import spacy\n",
    "\n",
    "nlp = spacy.load('en_core_web_md')\n",
    "\n",
    "word1 = nlp(\"cat\")\n",
    "word2 = nlp(\"monkey\")\n",
    "word3 = nlp(\"banana\")\n",
    "\n",
    "print(word1.similarity(word2))\n",
    "print(word3.similarity(word2))\n",
    "print(word3.similarity(word1))\n",
    "\n",
    "tokens = nlp('cat apple monkey banana ')\n",
    "\n",
    "for token1 in tokens:\n",
    "    for token2 in tokens:\n",
    "        print(token1.text, token2.text, token1.similarity(token2))\n",
    "        \n",
    "sentence_to_compare = \"Why is my cat on the car\"\n",
    "\n",
    "sentences = [\"where did my dog go\",\n",
    "             \"Hello, there is my car\",\n",
    "             \"I've lost my car in my car\",\n",
    "             \"I'd like my boat back\",\n",
    "             \"I will name my dog Diana\"]\n",
    "\n",
    "model_sentence = nlp(sentence_to_compare)\n",
    "\n",
    "for sentence in sentences:\n",
    "    similarity = nlp(sentence).similarity(model_sentence)\n",
    "    print(sentence + \" - \" + str(similarity))\n",
    "\n",
    "\n",
    "# 2) Write a note on what you noticed about the similarities between cat, monkey and banana and think of an example of your own.\n",
    "\n",
    "# Notes on similarities between 'cat', 'monkey' & 'banana':\n",
    "# \n",
    "# The similarity score between 'cat' and 'monkey' is 0.59, which is relatively high. \n",
    "# This reflects that both terms are animals and share some contextual relationships in how they are used in language.\n",
    "# \n",
    "# The similarity score between 'monkey' and 'banana' is 0.40, which is lower than 'cat' and 'monkey' but still significant.\n",
    "# This is likely because monkeys are often associated with bananas in popular culture and discourse.\n",
    "# \n",
    "# The similarity score between 'cat' and 'banana' is 0.22, which is quite low, indicating that these words are not closely related. \n",
    "# One is an animal and the other is a fruit, and are not often associated with each other so do not often appear in similar contexts.\n",
    "\n",
    "# Example of my own\n",
    "\n",
    "word4 = nlp(\"dog\")\n",
    "word5 = nlp(\"bark\")\n",
    "word6 = nlp(\"tree\")\n",
    "\n",
    "print(word4.similarity(word5))\n",
    "print(word6.similarity(word5))\n",
    "print(word6.similarity(word4))\n",
    "\n",
    "\n",
    "# 3) Run the example file on with the simpler language model en_core_web_sm \n",
    "# and write a note on what you notice may be different from the model en_core_web_md\n",
    "\n",
    "# Notes on en_core_web_sm vs en_core_web_md:\n",
    "# \n",
    "# The smaller en_core_web_sm model lacks word vectors, \n",
    "# which means it won't be as effective at capturing semantic similarities as the en_core_web_md model, \n",
    "# which includes word vectors for a more nuanced understanding of text. \n",
    "# Therefore, when you compare texts for similarity using the en_core_web_sm model, \n",
    "# you notice that the similarity scores are different—potentially less accurate or lower—than those produced by the en_core_web_md model. \n",
    "# This difference would be due to the en_core_web_sm model's reliance on the context of surrounding words alone, \n",
    "# without the benefit of word vectors to enhance its understanding of the text.\n",
    "# Word vectors are numerical representations of words that capture their \n",
    "# meanings, relationships, and context, allowing computers to understand language similarly to humans.\n",
    "\n",
    "# Practical Task 2\n",
    "\n",
    "# Read in the movies.txt file. Each separate line is a description of a different movie.\n",
    "\n",
    "import pandas as pd\n",
    "\n",
    "df = pd.read_csv('movies.txt',sep=':', header=None, names=['Movie', 'Description'])\n",
    "\n",
    "print(df)\n",
    "\n",
    "\n",
    "# Your task is to create a function to return which movies a user would watch next if they have watched Planet Hulk \n",
    "# with the descrtiption \"Will he save their world or destroy it? When the Hulk becomes too dangerous for the Earth, \n",
    "# the Illuminati trick Hulk into a shuttle and launch him into space to a planet where the Hulk can live in peace. \n",
    "# Unfortunately, Hulk lands on the planet Sakaar where he is sold into slavery and trained as a gladiator.\"\n",
    "\n",
    "Planet_Hulk = \"\"\"\n",
    "Will he save their world or destroy it? When the Hulk becomes too dangerous for the Earth, \n",
    "the Illuminati trick Hulk into a shuttle and launch him into space to a planet where the Hulk can live in peace. \n",
    "Unfortunately, Hulk lands on the planet Sakaar where he is sold into slavery and trained as a gladiator.\n",
    "\"\"\"\n",
    "\n",
    "\n",
    "# The function should take in the description as a parameter and return the title of the most similar movie.\n",
    "\n",
    "def recommend_movie(input_description):\n",
    "    input_doc = nlp(input_description)\n",
    "    recommended_similarity = 0\n",
    "    movie_title = None\n",
    "    \n",
    "    for index, row in df.iterrows():\n",
    "        movie_description = nlp(row['Description'])\n",
    "        local_similarity = input_doc.similarity(movie_description)\n",
    "        \n",
    "        if local_similarity > recommended_similarity:\n",
    "            recommended_similarity = local_similarity\n",
    "            movie_title = row['Movie']\n",
    "    \n",
    "    return movie_title, recommended_similarity\n",
    "\n",
    "recommend_movie(Planet_Hulk)\n",
    "\n",
    "\n",
    "\n"
   ]
  },
  {
   "cell_type": "code",
   "execution_count": null,
   "id": "86f7839e",
   "metadata": {},
   "outputs": [],
   "source": []
  }
 ],
 "metadata": {
  "kernelspec": {
   "display_name": "Python (newenv)",
   "language": "python",
   "name": "newenv"
  },
  "language_info": {
   "codemirror_mode": {
    "name": "ipython",
    "version": 3
   },
   "file_extension": ".py",
   "mimetype": "text/x-python",
   "name": "python",
   "nbconvert_exporter": "python",
   "pygments_lexer": "ipython3",
   "version": "3.8.18"
  }
 },
 "nbformat": 4,
 "nbformat_minor": 5
}
