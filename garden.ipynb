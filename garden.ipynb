{
 "cells": [
  {
   "cell_type": "markdown",
   "id": "c6926fed",
   "metadata": {},
   "source": [
    "Find at least 2 garden path sentences from the web, or think up your own.\n",
    "\n",
    "Store the sentences you have identified or created in a list called gardenpathSentences.\n",
    "\n",
    "Add the following sentences to your list:\n",
    "\n",
    "- Mary gave the child a Band-Aid.\n",
    "- That Jill is never here hurts.\n",
    "- The cotton clothing is made of grows in Mississippi."
   ]
  },
  {
   "cell_type": "code",
   "execution_count": 1,
   "id": "a1512847",
   "metadata": {},
   "outputs": [],
   "source": [
    "import spacy\n",
    "nlp = spacy.load(\"en_core_web_sm\")\n",
    "\n",
    "gardenpathSentences = [\n",
    "    \"Scottish miners refuse to work after death.\",\n",
    "    \"Hospitals sued by 7 foot doctors.\",\n",
    "    \"Mary gave the child a Band-Aid.\",\n",
    "    \"That Jill is never here hurts.\",\n",
    "    \"The cotton clothing is made of grows in Mississippi.\"\n",
    "]"
   ]
  },
  {
   "cell_type": "markdown",
   "id": "34b89ffb",
   "metadata": {},
   "source": [
    "Tokenize each sentence in the list, and perform named entity recognition."
   ]
  },
  {
   "cell_type": "code",
   "execution_count": 2,
   "id": "4397ac99",
   "metadata": {
    "scrolled": true
   },
   "outputs": [
    {
     "name": "stdout",
     "output_type": "stream",
     "text": [
      "['Scottish', 'miners', 'refuse', 'to', 'work', 'after', 'death']\n",
      "[(Scottish, 'NORP', 381)]\n",
      "['Hospitals', 'sued', 'by', '7', 'foot', 'doctors']\n",
      "[(7 foot, 'QUANTITY', 395)]\n",
      "['Mary', 'gave', 'the', 'child', 'a', 'Band', 'Aid']\n",
      "[(Mary, 'PERSON', 380)]\n",
      "['That', 'Jill', 'is', 'never', 'here', 'hurts']\n",
      "[(Jill, 'PERSON', 380)]\n",
      "['The', 'cotton', 'clothing', 'is', 'made', 'of', 'grows', 'in', 'Mississippi']\n",
      "[(Mississippi, 'GPE', 384)]\n"
     ]
    }
   ],
   "source": [
    "for sentence in gardenpathSentences:\n",
    "    doc = nlp(sentence)\n",
    "\n",
    "    print([token.orth_ for token in doc if not token.is_punct | token.is_space])\n",
    "    \n",
    "    print([(i, i.label_, i.label) for i in doc.ents])"
   ]
  },
  {
   "cell_type": "markdown",
   "id": "d9c27057",
   "metadata": {},
   "source": [
    "Examine how SpaCy has categorised each sentence. Then, use spacy.explain to look up and print the meaning of entities that you don't understand. For example: print(spacy.explain(\"FAC\"))"
   ]
  },
  {
   "cell_type": "code",
   "execution_count": 3,
   "id": "f496ecfb",
   "metadata": {},
   "outputs": [
    {
     "name": "stdout",
     "output_type": "stream",
     "text": [
      "NORP: Nationalities or religious or political groups\n",
      "GPE: Countries, cities, states\n",
      "PERSON: People, including fictional\n",
      "QUANTITY: Measurements, as of weight or distance\n"
     ]
    }
   ],
   "source": [
    "print(f\"NORP: {spacy.explain('NORP')}\")\n",
    "print(f\"GPE: {spacy.explain('GPE')}\")\n",
    "print(f\"PERSON: {spacy.explain('PERSON')}\")\n",
    "print(f\"QUANTITY: {spacy.explain('QUANTITY')}\")"
   ]
  },
  {
   "cell_type": "markdown",
   "id": "bf1b1d5f",
   "metadata": {},
   "source": [
    "At the bottom of your file, write a comment about two entities that you looked up. For each entity answer the following questions:\n",
    "\n",
    "- What was the entity and its explanation that you looked up?\n",
    "- Did the entity make sense in terms of the word associated with it?"
   ]
  },
  {
   "cell_type": "code",
   "execution_count": 4,
   "id": "2b4a57eb",
   "metadata": {},
   "outputs": [],
   "source": [
    "# NORP:\n",
    "# The NORP entity is for nationalities, religious or political groups\n",
    "# The entity was used to categorise the word \"Scottish\", this contextually makes sense\n",
    "# Scottish is indeed a nationality used to describe people from Scotland\n",
    "\n",
    "# GPE:\n",
    "# The GPE entity is for countries, cities and states\n",
    "# The entity was used to categorise the word \"Mississippi\"\n",
    "# Mississippi is a state in USA"
   ]
  }
 ],
 "metadata": {
  "kernelspec": {
   "display_name": "Python (newenv)",
   "language": "python",
   "name": "newenv"
  },
  "language_info": {
   "codemirror_mode": {
    "name": "ipython",
    "version": 3
   },
   "file_extension": ".py",
   "mimetype": "text/x-python",
   "name": "python",
   "nbconvert_exporter": "python",
   "pygments_lexer": "ipython3",
   "version": "3.8.18"
  }
 },
 "nbformat": 4,
 "nbformat_minor": 5
}
