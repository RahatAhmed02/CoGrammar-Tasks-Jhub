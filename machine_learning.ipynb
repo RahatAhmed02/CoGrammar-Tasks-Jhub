{
 "cells": [
  {
   "cell_type": "markdown",
   "metadata": {
    "id": "IBb6nSAY5T4I"
   },
   "source": [
    "# Machine Learning\n",
    "## Compulsory task"
   ]
  },
  {
   "cell_type": "markdown",
   "metadata": {
    "id": "N02Qu9_f1N45"
   },
   "source": [
    "1. For each of the following examples describe at least one possible input and\n",
    "output. Justify your answers:  \n",
    "* 1.1 A self-driving car\n",
    "* 1.2 Netflix recommendation system\n",
    "* 1.3 Signature recognition\n",
    "* 1.4 Medical diagnosis\n"
   ]
  },
  {
   "cell_type": "markdown",
   "metadata": {
    "id": "-8aBqprP3ypo"
   },
   "source": [
    "1. Answer here\n",
    "\n",
    "|      | Input(s)    | Output     |\n",
    "| ---- | ----------- | ---------  |\n",
    "| 1.1  | Radar and Lidar data from sensors       |Acceleration and braking for car            |\n",
    "| 1.2  | User movie selections, most time spent on, highest rated reviews            | Recommended movies based on genre on home page based on inputs            |\n",
    "| 1.3  | Shape, strokes, thickness, starting point of signature            | Recognised or not according to database of signature, if matches the database           |\n",
    "| 1.4  | Users symptoms and lab results            | Database of medical conditions consistent with symptoms and results           |\n",
    "\n",
    "Justification:\n",
    "\n",
    "* 1.1. A self-driving car needs to assess how close the objects in front of it are, such as cars. This data allows the car to output the optimal speeds for an efficient drive and also react quickly to emergencies, thus applying brakes or manoeuvres. \n",
    "<br/><br/>\n",
    "* 1.2. The system can extract data from what the user has rated highly or spent a lot of time on, such as movie genre or date released and recommend similar movies according to tags and not recommend ones already watched and disliked genres. Patterns can be determined based on the users viewing and browsing habits.\n",
    "<br/><br/>\n",
    "* 1.3. Users have distinct writing style and also signatures. The name, design, letters used combine to produce unique signatures. So approaching it like a fingerprint, whereby we monitor and record its unique qualities such that in the future if it needs to be verified, the database can assist in the decision of True or False. These situations of verification are often in high risk scenarios so a methodical approach is desirable.\n",
    "<br/><br/>\n",
    "* 1.4. Lots of patients suffer from similar symptoms, doctors can miss related symptoms the can alter a whole diagnosis. This system can ensure everything is considered simultaneously. Also it can predict what treatments are most likely to work based on past patient results."
   ]
  },
  {
   "cell_type": "markdown",
   "metadata": {
    "id": "l_I2f4C85yNF"
   },
   "source": [
    "\n",
    "2. For each of the following case studies, determine whether it is appropriate to utilise regression or classification machine learning algorithms. Justify your answers:\n",
    "* 2.1 Classifying emails as promotion or social based on their content and metadata.\n",
    "* 2.2 Forecasting the stock price of a company based on historical data and market trends.\n",
    "* 2.3 Sorting images of animals into different species based on their visual features.\n",
    "* 2.4 Predicting the likelihood of a patient having a particular disease based on medical history and diagnostic test results."
   ]
  },
  {
   "attachments": {},
   "cell_type": "markdown",
   "metadata": {
    "id": "WgMUsqQr6qFU"
   },
   "source": [
    "2. Answer here\n",
    "* 2.1 Classification, because new emails coming into the inbox need to be sorted into their distinct classes (promotion or social) based on the training set/labelled examples. This is categorical not continuous.\n",
    "<br/><br/>\n",
    "* 2.2 Regression, because trends can be determined using numerical values, previous data/training sets have these intrinsic values for R2, MSE, RMSE etc, therefore new data or predictive models can utilise this and produce its regression models. It has continuous outputs.\n",
    "<br/><br/>\n",
    "* 2.3 Classification, because the training set has predefined the correct classes for features so new data if in line with the training set will be sorted into their classes. The algorithm needs to extract categorical data from the images.\n",
    "<br/><br/>\n",
    "* 2.4 Classification and regression. Classification because the database of pre-existing results has been linked to their diagnoses, therefore any new data if in line with these results can be classified into their corresponding classes, this is an example of categorical data. But to then further use the data to predict the likelihood of diseases, the regression algorithms can be used after the classification to give a probability score. Continuous data can be output due to the sorting that has already happened and is particular useful in healthcare settings. "
   ]
  },
  {
   "cell_type": "markdown",
   "metadata": {
    "id": "b6f8UETG64hH"
   },
   "source": [
    "3. For each of the following real-world problems, determine whether it is appropriate to utilise a supervised or unsupervised machine learning algorithm. Justify your answers:\n",
    "* 3.1 Detecting anomalies in a manufacturing process using sensor data without prior knowledge of specific anomaly patterns.\n",
    "* 3.2 Predicting customer lifetime value based on historical transaction data and customer demographics.\n",
    "* 3.3 Segmenting customer demographics based on their purchase history, browsing behaviour, and preferences.\n",
    "* 3.4 Analysing social media posts to categorise them into different themes.\n"
   ]
  },
  {
   "cell_type": "markdown",
   "metadata": {
    "id": "W6dTYBvd675O"
   },
   "source": [
    "3. Answer here\n",
    "* 3.1 Unsupervised, there is no prior data to train the algorithm on to understand what is and isn’t an anomaly. Also, its not necessarily required to have a labelled data set prior because anomalous data by nature is distinct from the rest.\n",
    "<br/><br/>\n",
    "* 3.2 Supervised, we require a training set to predict the future, we need a basis to produce this future data. The algorithm learns trends based on the prior data which would be pivotal in this case.\n",
    "<br/><br/>\n",
    "* 3.3 Unsupervised, this is a data set that is current, and is not related to previous or future events. It can classify data real-time, so the algorithm can naturally group them without prior data. Therefore, the algorithm can produce patterns from this data purely based on the data provided to it there and then. However we have not been told if there are pre-defined labels, if that is the case we can benefit from a supervised learning algorithm to appropriately group data.\n",
    "<br/><br/>\n",
    "* 3.4 Supervised and unsupervised. Although it is categorical data, which in some cases unsupervised algorithms flourish in, the themes are a time dependent trend. Themes can change over time as do social media trends. Therefore, to remain relevant and useful, previous data will be needed to classify data according to their theme. However, if the genre is predefined, then its possible to make use of a unsupervised algorithm which would be a simpler implementation. So unsupervised algorithms will help to discover new trends/themes on unlabelled data, and supervised algorithms will categorise into predefined themes from labelled data."
   ]
  },
  {
   "cell_type": "markdown",
   "metadata": {
    "id": "bqsun96o64xe"
   },
   "source": [
    "4.\n",
    "For each of the following real-world problems, determine whether it is appropriate to utilise semi-supervised machine learning algorithms. Justify your answers:\n",
    "* 4.1 Predicting fraudulent financial transactions using a dataset where most transactions are labelled as fraudulent or legitimate.\n",
    "* 4.2 Analysing customer satisfaction surveys where only a small portion of the data is labelled with satisfaction ratings.\n",
    "*4.3 Identifying spam emails in a dataset where the majority of emails are labelled.\n",
    "* 4.4 Predicting the probability of default for credit card applicants based on their complete financial and credit-related information.\n"
   ]
  },
  {
   "cell_type": "markdown",
   "metadata": {
    "id": "aTWugZ6q68GF"
   },
   "source": [
    "4. Answer here\n",
    "* 4.1 Maybe appropriate. This is more likely to be suited to supervised learning (classification). We are told most data is labelled so this is suitable for a supervised learning algorithm especially considering that there are only two classes (fraudulent and legitimate). But if the dataset is very large and therefore time consuming and computationally expensive, then semi-supervised learning algorithms may be applicable.\n",
    "<br/><br/>\n",
    "* 4.2 Appropriate. We only have a small set of data, so this can help the algorithm produce desired analyses. It can also help produce new trends that are outside the scope of the small data set. Not all customer satisfaction levels will be identical, so this is a good opportunity to find new trends.\n",
    "<br/><br/>\n",
    "* 4.3 Maybe appropriate. We have majority data labelled and there is only two classes. This is ideal for a supervised learning algorithm. We would have a good understanding of what is spam and not. However, if it is time consuming and computationally expensive, semi-supervised learning may be suitable especially since there is only two classes to categorise. Potentially it could identify some more patterns due to the variation in emails people send.\n",
    "<br/><br/>\n",
    "* 4.4 Not particularly appropriate. This is a case where supervised learning would thrive. We have all data and it mentions that we need to predict probability “based on their complete financial and credit-related information.” If we had unlabelled data for these applicants or it was computationally expensive and time consuming, then a semi-supervised learning algorithm may be applicable."
   ]
  },
  {
   "cell_type": "code",
   "execution_count": null,
   "metadata": {},
   "outputs": [],
   "source": []
  }
 ],
 "metadata": {
  "colab": {
   "provenance": []
  },
  "kernelspec": {
   "display_name": "Python 3",
   "language": "python",
   "name": "python3"
  },
  "language_info": {
   "codemirror_mode": {
    "name": "ipython",
    "version": 3
   },
   "file_extension": ".py",
   "mimetype": "text/x-python",
   "name": "python",
   "nbconvert_exporter": "python",
   "pygments_lexer": "ipython3",
   "version": "3.8.8"
  }
 },
 "nbformat": 4,
 "nbformat_minor": 1
}
